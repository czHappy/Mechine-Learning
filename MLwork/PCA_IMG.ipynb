{
 "cells": [
  {
   "cell_type": "code",
   "execution_count": 1,
   "metadata": {},
   "outputs": [
    {
     "name": "stderr",
     "output_type": "stream",
     "text": [
      "\n",
      "Bad key savefig.frameon in file /home/sk49/anaconda3/lib/python3.7/site-packages/matplotlib/mpl-data/stylelib/_classic_test.mplstyle, line 421 ('savefig.frameon : True')\n",
      "You probably need to get an updated matplotlibrc file from\n",
      "https://github.com/matplotlib/matplotlib/blob/v3.3.2/matplotlibrc.template\n",
      "or from the matplotlib source distribution\n",
      "\n",
      "Bad key verbose.level in file /home/sk49/anaconda3/lib/python3.7/site-packages/matplotlib/mpl-data/stylelib/_classic_test.mplstyle, line 472 ('verbose.level  : silent      # one of silent, helpful, debug, debug-annoying')\n",
      "You probably need to get an updated matplotlibrc file from\n",
      "https://github.com/matplotlib/matplotlib/blob/v3.3.2/matplotlibrc.template\n",
      "or from the matplotlib source distribution\n",
      "\n",
      "Bad key verbose.fileo in file /home/sk49/anaconda3/lib/python3.7/site-packages/matplotlib/mpl-data/stylelib/_classic_test.mplstyle, line 473 ('verbose.fileo  : sys.stdout  # a log filename, sys.stdout or sys.stderr')\n",
      "You probably need to get an updated matplotlibrc file from\n",
      "https://github.com/matplotlib/matplotlib/blob/v3.3.2/matplotlibrc.template\n",
      "or from the matplotlib source distribution\n",
      "In /home/sk49/anaconda3/lib/python3.7/site-packages/matplotlib/mpl-data/stylelib/_classic_test.mplstyle: \n",
      "The text.latex.preview rcparam was deprecated in Matplotlib 3.3 and will be removed two minor releases later.\n",
      "In /home/sk49/anaconda3/lib/python3.7/site-packages/matplotlib/mpl-data/stylelib/_classic_test.mplstyle: \n",
      "The mathtext.fallback_to_cm rcparam was deprecated in Matplotlib 3.3 and will be removed two minor releases later.\n",
      "In /home/sk49/anaconda3/lib/python3.7/site-packages/matplotlib/mpl-data/stylelib/_classic_test.mplstyle: Support for setting the 'mathtext.fallback_to_cm' rcParam is deprecated since 3.3 and will be removed two minor releases later; use 'mathtext.fallback : 'cm' instead.\n",
      "In /home/sk49/anaconda3/lib/python3.7/site-packages/matplotlib/mpl-data/stylelib/_classic_test.mplstyle: \n",
      "The validate_bool_maybe_none function was deprecated in Matplotlib 3.3 and will be removed two minor releases later.\n",
      "In /home/sk49/anaconda3/lib/python3.7/site-packages/matplotlib/mpl-data/stylelib/_classic_test.mplstyle: \n",
      "The savefig.jpeg_quality rcparam was deprecated in Matplotlib 3.3 and will be removed two minor releases later.\n",
      "In /home/sk49/anaconda3/lib/python3.7/site-packages/matplotlib/mpl-data/stylelib/_classic_test.mplstyle: \n",
      "The keymap.all_axes rcparam was deprecated in Matplotlib 3.3 and will be removed two minor releases later.\n",
      "In /home/sk49/anaconda3/lib/python3.7/site-packages/matplotlib/mpl-data/stylelib/_classic_test.mplstyle: \n",
      "The animation.avconv_path rcparam was deprecated in Matplotlib 3.3 and will be removed two minor releases later.\n",
      "In /home/sk49/anaconda3/lib/python3.7/site-packages/matplotlib/mpl-data/stylelib/_classic_test.mplstyle: \n",
      "The animation.avconv_args rcparam was deprecated in Matplotlib 3.3 and will be removed two minor releases later.\n"
     ]
    }
   ],
   "source": [
    "import numpy as np\n",
    "import cv2 as cv\n",
    "from sklearn import decomposition\n",
    "import matplotlib.pyplot as plt"
   ]
  },
  {
   "cell_type": "code",
   "execution_count": null,
   "metadata": {},
   "outputs": [],
   "source": [
    "#数据中心化\n",
    "def Z_centered(dataMat):\n",
    "\trows,cols=dataMat.shape\n",
    "\tmeanVal = np.mean(dataMat, axis=0)  # 按列求均值，即求各个特征的均值\n",
    "\tmeanVal = np.tile(meanVal,(rows,1)) #相当于广播 为下面的减法做铺垫\n",
    "\tnewdata = dataMat-meanVal\n",
    "\treturn newdata, meanVal"
   ]
  },
  {
   "cell_type": "code",
   "execution_count": null,
   "metadata": {},
   "outputs": [],
   "source": [
    "#协方差矩阵\n",
    "def Cov(dataMat):\n",
    "\tmeanVal = np.mean(data,0) #压缩行，返回1*cols矩阵，对各列求均值\n",
    "\tmeanVal = np.tile(meanVal, (rows,1)) #返回rows行的均值矩阵\n",
    "\tZ = dataMat - meanVal\n",
    "\tZcov = (1/(rows-1))*Z.T * Z\n",
    "\treturn Zcov"
   ]
  },
  {
   "cell_type": "code",
   "execution_count": null,
   "metadata": {},
   "outputs": [],
   "source": [
    "#最小化降维造成的损失，确定k\n",
    "def Percentage2n(eigVals, percentage):\n",
    "\tsortArray = np.sort(eigVals)  # 升序\n",
    "\tsortArray = sortArray[-1::-1]  # 逆转，即降序\n",
    "\tarraySum = sum(sortArray)\n",
    "\ttmpSum = 0\n",
    "\tnum = 0\n",
    "\tfor i in sortArray:\n",
    "\t\ttmpSum += i\n",
    "\t\tnum += 1\n",
    "\t\tif tmpSum >= arraySum * percentage:\n",
    "\t\t\treturn num"
   ]
  },
  {
   "cell_type": "code",
   "execution_count": null,
   "metadata": {},
   "outputs": [],
   "source": [
    "#得到最大的k个特征值和特征向量\n",
    "def EigDV(covMat, p):\n",
    "\tD, V = np.linalg.eig(covMat) # 得到特征值和特征向量\n",
    "\tk = Percentage2n(D, p) # 确定k值\n",
    "\tprint(\"保留99%信息，降维后的特征个数：\"+str(k)+\"\\n\")\n",
    "\teigenvalue = np.argsort(D)\n",
    "\tK_eigenValue = eigenvalue[-1:-(k+1):-1]\n",
    "\tK_eigenVector = V[:,K_eigenValue]\n",
    "\treturn K_eigenValue, K_eigenVector"
   ]
  },
  {
   "cell_type": "code",
   "execution_count": null,
   "metadata": {},
   "outputs": [],
   "source": [
    "#得到降维后的数据\n",
    "def getlowDataMat(DataMat, K_eigenVector):\n",
    "\treturn DataMat * K_eigenVector"
   ]
  },
  {
   "cell_type": "code",
   "execution_count": null,
   "metadata": {},
   "outputs": [],
   "source": [
    "#重构数据\n",
    "def Reconstruction(lowDataMat, K_eigenVector, meanVal):\n",
    "\treconDataMat = lowDataMat * K_eigenVector.T + meanVal\n",
    "\treturn reconDataMat"
   ]
  },
  {
   "cell_type": "code",
   "execution_count": null,
   "metadata": {},
   "outputs": [],
   "source": [
    "#PCA算法\n",
    "def PCA(data, p):\n",
    "\tdataMat = np.float32(np.mat(data))\n",
    "\t#数据中心化\n",
    "\tdataMat, meanVal = Z_centered(dataMat)\n",
    "\t#计算协方差矩阵\n",
    "\t\t#covMat = Cov(dataMat)\n",
    "\tcovMat = np.cov(dataMat, rowvar=0)\n",
    "\t#得到最大的k个特征值和特征向量\n",
    "\tD, V = EigDV(covMat, p)\n",
    "\t#得到降维后的数据\n",
    "\tlowDataMat = getlowDataMat(dataMat, V)\n",
    "\t#重构数据\n",
    "\treconDataMat = Reconstruction(lowDataMat, V, meanVal)\n",
    "\treturn reconDataMat"
   ]
  },
  {
   "cell_type": "code",
   "execution_count": null,
   "metadata": {},
   "outputs": [],
   "source": [
    "imagePath = '1.png'\n",
    "image = cv.imread(imagePath)\n",
    "image=cv.cvtColor(image,cv.COLOR_BGR2GRAY)\n",
    "rows,cols=image.shape\n",
    "print(\"降维前的特征个数：\"+str(cols)+\"\\n\")\n",
    "print(image)\n",
    "print('----------------------------------------')\n",
    "reconImage = PCA(image, 0.99)\n",
    "reconImage = reconImage.astype(np.uint8)\n",
    "print(reconImage)\n",
    "plt.figure(\"Image\") # 图像窗口名称\n",
    "plt.imshow(reconImage)"
   ]
  },
  {
   "cell_type": "code",
   "execution_count": null,
   "metadata": {},
   "outputs": [],
   "source": []
  }
 ],
 "metadata": {
  "kernelspec": {
   "display_name": "Python 3",
   "language": "python",
   "name": "python3"
  },
  "language_info": {
   "codemirror_mode": {
    "name": "ipython",
    "version": 3
   },
   "file_extension": ".py",
   "mimetype": "text/x-python",
   "name": "python",
   "nbconvert_exporter": "python",
   "pygments_lexer": "ipython3",
   "version": "3.7.3"
  }
 },
 "nbformat": 4,
 "nbformat_minor": 2
}
