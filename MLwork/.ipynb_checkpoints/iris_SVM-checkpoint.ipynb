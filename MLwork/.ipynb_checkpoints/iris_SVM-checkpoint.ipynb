{
 "cells": [
  {
   "cell_type": "code",
   "execution_count": 25,
   "metadata": {},
   "outputs": [],
   "source": [
    "import torch.nn as nn\n",
    "import torch\n",
    "import torch.utils.data as Data\n",
    "from  sklearn.datasets import load_iris\n",
    "import pandas as pd\n",
    "import numpy as np\n",
    "from sklearn import svm\n",
    "def getdata():\n",
    "    train_data=load_iris()\n",
    "    data=train_data['data']\n",
    "    labels=train_data['target'].reshape(-1,1)\n",
    "    total_data=np.hstack((data,labels))\n",
    "    np.random.shuffle(total_data)\n",
    "    train=total_data[0:100,:-1]\n",
    "    test=total_data[100:,:-1]\n",
    "    train_label=total_data[0:100,-1].reshape(-1,1)\n",
    "    test_label=total_data[100:,-1].reshape(-1,1)\n",
    "    return data,labels,train,test,train_label,test_label\n",
    "data,labels,train,test,train_label,test_label = getdata()\n",
    "# 数据预处理 归一化\n",
    "from sklearn.preprocessing import StandardScaler\n",
    "scaler = StandardScaler()\n",
    "scaler.fit(train)\n",
    "train=scaler.transform(train)\n",
    "# 4.对测试数据进行归一化处理\n",
    "test=scaler.transform(test)"
   ]
  },
  {
   "cell_type": "code",
   "execution_count": 26,
   "metadata": {},
   "outputs": [
    {
     "name": "stdout",
     "output_type": "stream",
     "text": [
      "[1. 1. 1. 1. 1. 0. 2. 1. 1. 1. 1. 2. 0. 0. 0. 1. 0. 1. 0. 0. 2. 2. 0. 2.\n",
      " 1. 0. 2. 1. 0. 2. 1. 2. 1. 2. 2. 1. 1. 1. 2. 1. 2. 1. 1. 2. 1. 1. 0. 2.\n",
      " 1. 0.]\n",
      "[2. 1. 1. 1. 1. 2. 2. 2. 2. 1. 1. 2. 2. 0. 2. 1. 2. 1. 2. 2. 2. 2. 2. 2.\n",
      " 1. 2. 2. 1. 2. 2. 2. 2. 1. 2. 2. 1. 1. 2. 2. 1. 2. 2. 1. 2. 1. 2. 2. 2.\n",
      " 1. 2.]\n",
      "0.64\n"
     ]
    },
    {
     "name": "stderr",
     "output_type": "stream",
     "text": [
      "/home/sk49/anaconda3/lib/python3.7/site-packages/sklearn/utils/validation.py:761: DataConversionWarning: A column-vector y was passed when a 1d array was expected. Please change the shape of y to (n_samples, ), for example using ravel().\n",
      "  y = column_or_1d(y, warn=True)\n"
     ]
    }
   ],
   "source": [
    "svm_rbf = svm.SVC(C = 0.8, kernel = 'rbf', gamma = 20)\n",
    "svm_rbf.fit(train,train_label)\n",
    "y_pred = svm_clf.predict(test)\n",
    "y_true = test_label.reshape(1,-1)[0]\n",
    "print(y_true)\n",
    "print(y_pred)\n",
    "accuracy = float((y_pred == y_true).astype(int).sum()) / (len(y_true))\n",
    "print(accuracy)\n"
   ]
  },
  {
   "cell_type": "code",
   "execution_count": 27,
   "metadata": {},
   "outputs": [
    {
     "name": "stdout",
     "output_type": "stream",
     "text": [
      "[1. 1. 1. 1. 1. 0. 2. 1. 1. 1. 1. 2. 0. 0. 0. 1. 0. 1. 0. 0. 2. 2. 0. 2.\n",
      " 1. 0. 2. 1. 0. 2. 1. 2. 1. 2. 2. 1. 1. 1. 2. 1. 2. 1. 1. 2. 1. 1. 0. 2.\n",
      " 1. 0.]\n",
      "[2. 1. 1. 1. 1. 2. 2. 2. 2. 1. 1. 2. 2. 0. 2. 1. 2. 1. 2. 2. 2. 2. 2. 2.\n",
      " 1. 2. 2. 1. 2. 2. 2. 2. 1. 2. 2. 1. 1. 2. 2. 1. 2. 2. 1. 2. 1. 2. 2. 2.\n",
      " 1. 2.]\n",
      "0.64\n"
     ]
    },
    {
     "name": "stderr",
     "output_type": "stream",
     "text": [
      "/home/sk49/anaconda3/lib/python3.7/site-packages/sklearn/utils/validation.py:761: DataConversionWarning: A column-vector y was passed when a 1d array was expected. Please change the shape of y to (n_samples, ), for example using ravel().\n",
      "  y = column_or_1d(y, warn=True)\n"
     ]
    }
   ],
   "source": [
    "svm_linear = svm.SVC(C = 0.8, kernel = 'linear', gamma = 20)\n",
    "svm_linear.fit(train,train_label)\n",
    "y_pred = svm_clf.predict(test)\n",
    "y_true = test_label.reshape(1,-1)[0]\n",
    "print(y_true)\n",
    "print(y_pred)\n",
    "accuracy = float((y_pred == y_true).astype(int).sum()) / (len(y_true))\n",
    "print(accuracy)"
   ]
  },
  {
   "cell_type": "code",
   "execution_count": 29,
   "metadata": {},
   "outputs": [
    {
     "name": "stdout",
     "output_type": "stream",
     "text": [
      "[1. 1. 1. 1. 1. 0. 2. 1. 1. 1. 1. 2. 0. 0. 0. 1. 0. 1. 0. 0. 2. 2. 0. 2.\n",
      " 1. 0. 2. 1. 0. 2. 1. 2. 1. 2. 2. 1. 1. 1. 2. 1. 2. 1. 1. 2. 1. 1. 0. 2.\n",
      " 1. 0.]\n",
      "[2. 1. 1. 1. 1. 2. 2. 2. 2. 1. 1. 2. 2. 0. 2. 1. 2. 1. 2. 2. 2. 2. 2. 2.\n",
      " 1. 2. 2. 1. 2. 2. 2. 2. 1. 2. 2. 1. 1. 2. 2. 1. 2. 2. 1. 2. 1. 2. 2. 2.\n",
      " 1. 2.]\n",
      "0.64\n"
     ]
    },
    {
     "name": "stderr",
     "output_type": "stream",
     "text": [
      "/home/sk49/anaconda3/lib/python3.7/site-packages/sklearn/utils/validation.py:761: DataConversionWarning: A column-vector y was passed when a 1d array was expected. Please change the shape of y to (n_samples, ), for example using ravel().\n",
      "  y = column_or_1d(y, warn=True)\n"
     ]
    }
   ],
   "source": [
    "svm_poly = svm.SVC(C = 0.8, kernel = 'poly', gamma = 20)\n",
    "svm_poly.fit(train,train_label)\n",
    "y_pred = svm_clf.predict(test)\n",
    "y_true = test_label.reshape(1,-1)[0]\n",
    "print(y_true)\n",
    "print(y_pred)\n",
    "accuracy = float((y_pred == y_true).astype(int).sum()) / (len(y_true))\n",
    "print(accuracy)"
   ]
  },
  {
   "cell_type": "code",
   "execution_count": null,
   "metadata": {},
   "outputs": [],
   "source": []
  }
 ],
 "metadata": {
  "kernelspec": {
   "display_name": "Python 3",
   "language": "python",
   "name": "python3"
  },
  "language_info": {
   "codemirror_mode": {
    "name": "ipython",
    "version": 3
   },
   "file_extension": ".py",
   "mimetype": "text/x-python",
   "name": "python",
   "nbconvert_exporter": "python",
   "pygments_lexer": "ipython3",
   "version": "3.7.3"
  }
 },
 "nbformat": 4,
 "nbformat_minor": 2
}
