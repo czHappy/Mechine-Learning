{
 "cells": [
  {
   "cell_type": "code",
   "execution_count": 13,
   "metadata": {},
   "outputs": [],
   "source": [
    "import torch.nn as nn\n",
    "import torch\n",
    "import torch.utils.data as Data\n",
    "from  sklearn.datasets import load_iris\n",
    "import pandas as pd\n",
    "import numpy as np\n",
    "def getdata():\n",
    "    train_data=load_iris()\n",
    "    data=train_data['data']\n",
    "    labels=train_data['target'].reshape(-1,1)\n",
    "    total_data=np.hstack((data,labels))\n",
    "    np.random.shuffle(total_data)\n",
    "    train=total_data[0:100,:-1]\n",
    "    test=total_data[100:,:-1]\n",
    "    train_label=total_data[0:100,-1].reshape(-1,1)\n",
    "    test_label=total_data[100:,-1].reshape(-1,1)\n",
    "    return data,labels,train,test,train_label,test_label\n",
    "data,labels,train,test,train_label,test_label = getdata()\n",
    "# 数据预处理 归一化\n",
    "from sklearn.preprocessing import StandardScaler\n",
    "scaler = StandardScaler()\n",
    "scaler.fit(train)\n",
    "train=scaler.transform(train)\n",
    "# 4.对测试数据进行归一化处理\n",
    "test=scaler.transform(test)"
   ]
  },
  {
   "cell_type": "code",
   "execution_count": 14,
   "metadata": {},
   "outputs": [
    {
     "name": "stdout",
     "output_type": "stream",
     "text": [
      "[2. 0. 1. 1. 0. 0. 2. 0. 0. 0. 0. 1. 1. 2. 2. 0. 1. 2. 2. 1. 1. 2. 2. 1.\n",
      " 0. 2. 0. 0. 1. 1. 2. 2. 0. 2. 2. 1. 1. 1. 1. 1. 0. 1. 0. 2. 2. 0. 1. 0.\n",
      " 2. 0.]\n",
      "[1 0 1 2 0 0 2 0 0 0 0 2 1 2 2 0 1 2 2 1 1 2 2 1 0 2 0 0 1 1 2 2 0 2 2 1 2\n",
      " 1 1 2 0 1 0 2 2 0 1 0 2 0]\n",
      "0.9\n"
     ]
    }
   ],
   "source": [
    "from sklearn.cluster import KMeans\n",
    "kmeans = KMeans(n_clusters=3)\n",
    "kmeans.fit(train)\n",
    "y_pred = kmeans.predict(test)\n",
    "y_true = test_label.reshape(1,-1)[0]\n",
    "print(y_true)\n",
    "print(y_pred)\n",
    "accuracy = float((y_pred == y_true).astype(int).sum()) / (len(y_true))\n",
    "print(accuracy)"
   ]
  },
  {
   "cell_type": "code",
   "execution_count": 15,
   "metadata": {},
   "outputs": [
    {
     "data": {
      "image/png": "[encoded data removed]",
      "text/plain": [
       "<Figure size 288x288 with 2 Axes>"
      ]
     },
     "metadata": {
      "needs_background": "light"
     },
     "output_type": "display_data"
    }
   ],
   "source": [
    "# 衡量模型性能\n",
    "\n",
    "#true↓ predict→\n",
    "import sklearn.metrics as sm\n",
    "from sklearn.metrics import confusion_matrix\n",
    "import matplotlib.pyplot as plt\n",
    "cm = confusion_matrix(y_pred, y_true)\n",
    "#print(cm)\n",
    "plt.matshow(cm,cmap=plt.cm.Greens)\n",
    "plt.colorbar()\n",
    "for x in range(len(cm)):\n",
    "    for y in range(len(cm)):\n",
    "        plt.annotate(cm[x,y],xy=(x,y),horizontalalignment='center',verticalalignment='center')"
   ]
  },
  {
   "cell_type": "code",
   "execution_count": 16,
   "metadata": {},
   "outputs": [
    {
     "name": "stdout",
     "output_type": "stream",
     "text": [
      "分类报告为：\n",
      "              precision    recall  f1-score   support\n",
      "\n",
      "         0.0       1.00      1.00      1.00        17\n",
      "         1.0       0.93      0.76      0.84        17\n",
      "         2.0       0.79      0.94      0.86        16\n",
      "\n",
      "   micro avg       0.90      0.90      0.90        50\n",
      "   macro avg       0.91      0.90      0.90        50\n",
      "weighted avg       0.91      0.90      0.90        50\n",
      "\n"
     ]
    }
   ],
   "source": [
    "# 分类报告\n",
    "r = sm.classification_report(y_true, y_pred)\n",
    "print('分类报告为：', r, sep='\\n')"
   ]
  },
  {
   "cell_type": "code",
   "execution_count": null,
   "metadata": {},
   "outputs": [],
   "source": []
  }
 ],
 "metadata": {
  "kernelspec": {
   "display_name": "Python 3",
   "language": "python",
   "name": "python3"
  },
  "language_info": {
   "codemirror_mode": {
    "name": "ipython",
    "version": 3
   },
   "file_extension": ".py",
   "mimetype": "text/x-python",
   "name": "python",
   "nbconvert_exporter": "python",
   "pygments_lexer": "ipython3",
   "version": "3.7.3"
  }
 },
 "nbformat": 4,
 "nbformat_minor": 2
}
