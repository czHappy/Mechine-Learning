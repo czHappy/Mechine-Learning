{
 "cells": [
  {
   "cell_type": "code",
   "execution_count": 55,
   "metadata": {},
   "outputs": [],
   "source": [
    "import torch.nn as nn\n",
    "import torch\n",
    "import torch.utils.data as Data\n",
    "from  sklearn.datasets import load_iris\n",
    "import pandas as pd\n",
    "import numpy as np\n",
    "from sklearn import svm\n",
    "def getdata():\n",
    "    train_data=load_iris()\n",
    "    data=train_data['data']\n",
    "    labels=train_data['target'].reshape(-1,1)\n",
    "    total_data=np.hstack((data,labels))\n",
    "    np.random.shuffle(total_data)\n",
    "    train=total_data[0:120,:-1]\n",
    "    test=total_data[120:,:-1]\n",
    "    train_label=total_data[0:120,-1].reshape(-1,1)\n",
    "    test_label=total_data[120:,-1].reshape(-1,1)\n",
    "    return data,labels,train,test,train_label,test_label\n",
    "data,labels,train,test,train_label,test_label = getdata()\n",
    "# 数据预处理 归一化\n",
    "from sklearn.preprocessing import StandardScaler\n",
    "scaler = StandardScaler()\n",
    "scaler.fit(train)\n",
    "train=scaler.transform(train)\n",
    "# 4.对测试数据进行归一化处理\n",
    "test=scaler.transform(test)"
   ]
  },
  {
   "cell_type": "code",
   "execution_count": 36,
   "metadata": {},
   "outputs": [
    {
     "name": "stdout",
     "output_type": "stream",
     "text": [
      "[2. 1. 0. 2. 0. 1. 2. 2. 2. 1. 0. 2. 0. 0. 0. 0. 1. 2. 2. 1. 1. 2. 1. 0.\n",
      " 2. 0. 2. 2. 0. 1. 0. 1. 1. 2. 1. 0. 2. 0. 2. 0. 0. 2. 2. 0. 1. 2. 2. 2.\n",
      " 0. 2.]\n",
      "[2. 1. 0. 2. 0. 1. 2. 1. 2. 1. 0. 2. 0. 0. 0. 0. 1. 2. 2. 1. 1. 2. 1. 0.\n",
      " 2. 0. 2. 1. 0. 1. 0. 1. 1. 2. 1. 0. 2. 0. 2. 0. 0. 2. 1. 0. 1. 1. 2. 2.\n",
      " 0. 2.]\n",
      "0.92\n"
     ]
    },
    {
     "name": "stderr",
     "output_type": "stream",
     "text": [
      "/home/sk49/anaconda3/lib/python3.7/site-packages/sklearn/utils/validation.py:761: DataConversionWarning: A column-vector y was passed when a 1d array was expected. Please change the shape of y to (n_samples, ), for example using ravel().\n",
      "  y = column_or_1d(y, warn=True)\n"
     ]
    }
   ],
   "source": [
    "svm_rbf = svm.SVC(C = 0.8, kernel = 'rbf')\n",
    "svm_rbf.fit(train,train_label)\n",
    "y_pred = svm_rbf.predict(test)\n",
    "y_true = test_label.reshape(1,-1)[0]\n",
    "print(y_true)\n",
    "print(y_pred)\n",
    "accuracy = float((y_pred == y_true).astype(int).sum()) / (len(y_true))\n",
    "print(accuracy)\n"
   ]
  },
  {
   "cell_type": "code",
   "execution_count": 56,
   "metadata": {},
   "outputs": [
    {
     "name": "stdout",
     "output_type": "stream",
     "text": [
      "[1. 1. 1. 2. 1. 2. 0. 2. 2. 0. 0. 2. 0. 2. 2. 1. 2. 0. 1. 0. 1. 0. 0. 0.\n",
      " 1. 1. 1. 2. 2. 1.]\n",
      "[2. 1. 1. 2. 1. 2. 0. 2. 2. 0. 0. 2. 0. 2. 2. 1. 2. 0. 1. 0. 1. 0. 0. 0.\n",
      " 1. 1. 1. 2. 2. 1.]\n",
      "0.9666666666666667\n"
     ]
    },
    {
     "name": "stderr",
     "output_type": "stream",
     "text": [
      "/home/sk49/anaconda3/lib/python3.7/site-packages/sklearn/utils/validation.py:761: DataConversionWarning: A column-vector y was passed when a 1d array was expected. Please change the shape of y to (n_samples, ), for example using ravel().\n",
      "  y = column_or_1d(y, warn=True)\n"
     ]
    }
   ],
   "source": [
    "svm_linear = svm.SVC(C = 0.8, kernel = 'linear')\n",
    "svm_linear.fit(train,train_label)\n",
    "y_pred = svm_linear.predict(test)\n",
    "y_true = test_label.reshape(1,-1)[0]\n",
    "print(y_true)\n",
    "print(y_pred)\n",
    "accuracy = float((y_pred == y_true).astype(int).sum()) / (len(y_true))\n",
    "print(accuracy)"
   ]
  },
  {
   "cell_type": "code",
   "execution_count": 42,
   "metadata": {},
   "outputs": [
    {
     "name": "stdout",
     "output_type": "stream",
     "text": [
      "[0. 2. 1. 1. 1. 2. 0. 1. 2. 1. 2. 2. 2. 1. 1. 0. 2. 2. 1. 1. 1. 0. 0. 2.\n",
      " 0. 2. 2. 2. 1. 0. 2. 1. 1. 0. 0. 1. 1. 0. 0. 1. 2. 0. 1. 1. 1. 0. 0. 2.\n",
      " 1. 2.]\n",
      "[0. 2. 1. 1. 1. 2. 0. 1. 2. 1. 1. 2. 1. 1. 1. 0. 2. 2. 1. 1. 1. 0. 0. 2.\n",
      " 0. 1. 2. 2. 1. 0. 1. 1. 1. 0. 0. 1. 1. 0. 0. 1. 2. 0. 1. 1. 1. 0. 0. 2.\n",
      " 1. 2.]\n",
      "0.92\n"
     ]
    },
    {
     "name": "stderr",
     "output_type": "stream",
     "text": [
      "/home/sk49/anaconda3/lib/python3.7/site-packages/sklearn/utils/validation.py:761: DataConversionWarning: A column-vector y was passed when a 1d array was expected. Please change the shape of y to (n_samples, ), for example using ravel().\n",
      "  y = column_or_1d(y, warn=True)\n"
     ]
    }
   ],
   "source": [
    "svm_poly = svm.SVC(C = 0.8, kernel = 'poly')\n",
    "svm_poly.fit(train,train_label)\n",
    "y_pred = svm_poly.predict(test)\n",
    "y_true = test_label.reshape(1,-1)[0]\n",
    "print(y_true)\n",
    "print(y_pred)\n",
    "accuracy = float((y_pred == y_true).astype(int).sum()) / (len(y_true))\n",
    "print(accuracy)"
   ]
  },
  {
   "cell_type": "code",
   "execution_count": 46,
   "metadata": {},
   "outputs": [
    {
     "name": "stdout",
     "output_type": "stream",
     "text": [
      "[0. 2. 2. 2. 0. 2. 0. 0. 1. 0. 0. 1. 2. 2. 2. 1. 2. 1. 1. 2. 0. 2. 0. 0.\n",
      " 1. 2. 2. 2. 2. 1. 1. 2. 1. 1. 0. 1. 1. 0. 2. 0. 2. 1. 1. 0. 1. 1. 2. 1.\n",
      " 1. 2.]\n",
      "[0. 2. 2. 2. 0. 2. 0. 0. 1. 0. 0. 1. 2. 2. 2. 1. 2. 1. 1. 2. 0. 2. 0. 0.\n",
      " 1. 2. 2. 2. 2. 2. 1. 2. 2. 1. 0. 1. 2. 0. 2. 0. 2. 2. 1. 0. 1. 2. 1. 1.\n",
      " 1. 2.]\n",
      "0.88\n"
     ]
    },
    {
     "name": "stderr",
     "output_type": "stream",
     "text": [
      "/home/sk49/anaconda3/lib/python3.7/site-packages/sklearn/utils/validation.py:761: DataConversionWarning: A column-vector y was passed when a 1d array was expected. Please change the shape of y to (n_samples, ), for example using ravel().\n",
      "  y = column_or_1d(y, warn=True)\n"
     ]
    }
   ],
   "source": [
    "svm_s = svm.SVC(C = 0.8, kernel = 'sigmoid')\n",
    "svm_s.fit(train,train_label)\n",
    "y_pred = svm_s.predict(test)\n",
    "y_true = test_label.reshape(1,-1)[0]\n",
    "print(y_true)\n",
    "print(y_pred)\n",
    "accuracy = float((y_pred == y_true).astype(int).sum()) / (len(y_true))\n",
    "print(accuracy)"
   ]
  },
  {
   "cell_type": "code",
   "execution_count": 57,
   "metadata": {},
   "outputs": [
    {
     "data": {
      "image/png": "[encoded data removed]",
      "text/plain": [
       "<Figure size 288x288 with 2 Axes>"
      ]
     },
     "metadata": {
      "needs_background": "light"
     },
     "output_type": "display_data"
    }
   ],
   "source": [
    "# 衡量模型性能\n",
    "\n",
    "#true↓ predict→\n",
    "import sklearn.metrics as sm\n",
    "from sklearn.metrics import confusion_matrix\n",
    "import matplotlib.pyplot as plt\n",
    "cm = confusion_matrix(y_pred, y_true)\n",
    "#print(cm)\n",
    "plt.matshow(cm,cmap=plt.cm.Greens)\n",
    "plt.colorbar()\n",
    "for x in range(len(cm)):\n",
    "    for y in range(len(cm)):\n",
    "        plt.annotate(cm[x,y],xy=(x,y),horizontalalignment='center',verticalalignment='center')\n",
    "        "
   ]
  },
  {
   "cell_type": "code",
   "execution_count": 58,
   "metadata": {},
   "outputs": [
    {
     "name": "stdout",
     "output_type": "stream",
     "text": [
      "分类报告为：\n",
      "              precision    recall  f1-score   support\n",
      "\n",
      "         0.0       1.00      1.00      1.00         9\n",
      "         1.0       1.00      0.91      0.95        11\n",
      "         2.0       0.91      1.00      0.95        10\n",
      "\n",
      "   micro avg       0.97      0.97      0.97        30\n",
      "   macro avg       0.97      0.97      0.97        30\n",
      "weighted avg       0.97      0.97      0.97        30\n",
      "\n"
     ]
    }
   ],
   "source": [
    "# 分类报告\n",
    "r = sm.classification_report(y_true, y_pred)\n",
    "print('分类报告为：', r, sep='\\n')"
   ]
  },
  {
   "cell_type": "code",
   "execution_count": null,
   "metadata": {},
   "outputs": [],
   "source": []
  }
 ],
 "metadata": {
  "kernelspec": {
   "display_name": "Python 3",
   "language": "python",
   "name": "python3"
  },
  "language_info": {
   "codemirror_mode": {
    "name": "ipython",
    "version": 3
   },
   "file_extension": ".py",
   "mimetype": "text/x-python",
   "name": "python",
   "nbconvert_exporter": "python",
   "pygments_lexer": "ipython3",
   "version": "3.7.3"
  }
 },
 "nbformat": 4,
 "nbformat_minor": 2
}
