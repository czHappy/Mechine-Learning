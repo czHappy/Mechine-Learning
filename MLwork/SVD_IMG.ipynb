{
 "cells": [
  {
   "cell_type": "code",
   "execution_count": 30,
   "metadata": {},
   "outputs": [],
   "source": [
    "from PIL import Image\n",
    "import numpy as np"
   ]
  },
  {
   "cell_type": "code",
   "execution_count": 39,
   "metadata": {},
   "outputs": [],
   "source": [
    "def image_svd(percent, u, sigma, vt):\n",
    "    svd = np.zeros((u.shape[0],vt.shape[1]))\n",
    "    n = percent * len(sigma)\n",
    "    n = int(n)\n",
    "    for i in range(0, n):\n",
    "        svd[i, i] = sigma[i]\n",
    "    img = np.matmul(u, svd)\n",
    "    img = np.matmul(img, vt)\n",
    "    img[ img >= 255] = 255\n",
    "    img[  0 >= img ] = 0\n",
    "    img = img.astype(np.uint8)\n",
    "    return img"
   ]
  },
  {
   "cell_type": "code",
   "execution_count": 40,
   "metadata": {},
   "outputs": [],
   "source": [
    "img = Image.open('1.png', 'r')\n",
    "a = np.array(img)"
   ]
  },
  {
   "cell_type": "code",
   "execution_count": 42,
   "metadata": {},
   "outputs": [],
   "source": [
    "u0, sigma0, vt0 = np.linalg.svd(a[:, :, 0])\n",
    "u1, sigma1, vt1 = np.linalg.svd(a[:, :, 1])\n",
    "u2, sigma2, vt2 = np.linalg.svd(a[:, :, 2])\n",
    "\n",
    "for p in np.arange(0.1, 1, 0.1):\n",
    "    R = image_svd(p, u0, sigma0, vt0)\n",
    "    G = image_svd(p, u1, sigma1, vt1)\n",
    "    B = image_svd(p, u2, sigma2, vt2)\n",
    "    \n",
    "    I = np.stack((R, G, B), 2)\n",
    "    #保存图片在img文件夹下\n",
    "    Image.fromarray(I).save(\"./svd_imgs/svd_\" + str(p * 100) + \".png\")"
   ]
  },
  {
   "cell_type": "code",
   "execution_count": 25,
   "metadata": {},
   "outputs": [],
   "source": [
    "data = np.array([[1,2,3],[4,5,6],[7,8,9],[10,11,12]]) #4X3"
   ]
  },
  {
   "cell_type": "code",
   "execution_count": 26,
   "metadata": {},
   "outputs": [],
   "source": [
    "U,sigma,VT = np.linalg.svd(data)"
   ]
  },
  {
   "cell_type": "code",
   "execution_count": 27,
   "metadata": {},
   "outputs": [
    {
     "data": {
      "text/plain": [
       "array([[-0.14087668, -0.82471435,  0.5377697 , -0.1039411 ],\n",
       "       [-0.34394629, -0.42626394, -0.63955314,  0.539418  ],\n",
       "       [-0.54701591, -0.02781353, -0.33420281, -0.7670127 ],\n",
       "       [-0.75008553,  0.37063688,  0.43598625,  0.3315358 ]])"
      ]
     },
     "execution_count": 27,
     "metadata": {},
     "output_type": "execute_result"
    }
   ],
   "source": [
    "U # 4x4"
   ]
  },
  {
   "cell_type": "code",
   "execution_count": 28,
   "metadata": {},
   "outputs": [
    {
     "data": {
      "text/plain": [
       "array([2.54624074e+01, 1.29066168e+00, 2.31173375e-15])"
      ]
     },
     "execution_count": 28,
     "metadata": {},
     "output_type": "execute_result"
    }
   ],
   "source": [
    "sigma #4x3"
   ]
  },
  {
   "cell_type": "code",
   "execution_count": 29,
   "metadata": {},
   "outputs": [
    {
     "data": {
      "text/plain": [
       "array([[-0.50453315, -0.5745157 , -0.64449826],\n",
       "       [ 0.76077568,  0.05714052, -0.64649464],\n",
       "       [-0.40824829,  0.81649658, -0.40824829]])"
      ]
     },
     "execution_count": 29,
     "metadata": {},
     "output_type": "execute_result"
    }
   ],
   "source": [
    "VT #3x3"
   ]
  },
  {
   "cell_type": "code",
   "execution_count": null,
   "metadata": {},
   "outputs": [],
   "source": []
  },
  {
   "cell_type": "code",
   "execution_count": null,
   "metadata": {},
   "outputs": [],
   "source": []
  }
 ],
 "metadata": {
  "kernelspec": {
   "display_name": "Python 3",
   "language": "python",
   "name": "python3"
  },
  "language_info": {
   "codemirror_mode": {
    "name": "ipython",
    "version": 3
   },
   "file_extension": ".py",
   "mimetype": "text/x-python",
   "name": "python",
   "nbconvert_exporter": "python",
   "pygments_lexer": "ipython3",
   "version": "3.7.3"
  }
 },
 "nbformat": 4,
 "nbformat_minor": 2
}
