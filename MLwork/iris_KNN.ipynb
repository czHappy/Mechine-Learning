{
 "cells": [
  {
   "cell_type": "code",
   "execution_count": 86,
   "metadata": {},
   "outputs": [],
   "source": [
    "import torch.nn as nn\n",
    "import torch\n",
    "import torch.utils.data as Data\n",
    "from  sklearn.datasets import load_iris\n",
    "import pandas as pd\n",
    "import numpy as np\n",
    "import warnings\n",
    "warnings.filterwarnings(\"ignore\")\n",
    "def getdata():\n",
    "    train_data=load_iris()\n",
    "    data=train_data['data']\n",
    "    labels=train_data['target'].reshape(-1,1)\n",
    "    total_data=np.hstack((data,labels))\n",
    "    np.random.shuffle(total_data)\n",
    "    train=total_data[0:120,:-1]\n",
    "    test=total_data[120:,:-1]\n",
    "    train_label=total_data[0:120,-1].reshape(-1,1)\n",
    "    test_label=total_data[120:,-1].reshape(-1,1)\n",
    "    return data,labels,train,test,train_label,test_label\n",
    "data,labels,train,test,train_label,test_label = getdata()\n",
    "# 数据预处理 归一化\n",
    "from sklearn.preprocessing import StandardScaler\n",
    "scaler = StandardScaler()\n",
    "scaler.fit(train)\n",
    "train=scaler.transform(train)\n",
    "# 4.对测试数据进行归一化处理\n",
    "test=scaler.transform(test)\n"
   ]
  },
  {
   "cell_type": "code",
   "execution_count": 87,
   "metadata": {},
   "outputs": [
    {
     "name": "stdout",
     "output_type": "stream",
     "text": [
      "0.9666666666666667\n",
      "0.9666666666666667\n"
     ]
    }
   ],
   "source": [
    "# KNN\n",
    "from sklearn.neighbors import KNeighborsClassifier\n",
    "knn_clf = KNeighborsClassifier(n_neighbors=7)\n",
    "# 6.训练数据\n",
    "knn_clf.fit(train,train_label)\n",
    "# 7.进行比较\n",
    "y_pred = knn_clf.predict(test)\n",
    "y_true=test_label.reshape(1,-1)[0]\n",
    "accuracy = float((y_pred == y_true).astype(int).sum()) / (len(y_true))\n",
    "score=knn_clf.score(test,test_label)#这样可以直接算准确率\n",
    "print(score)\n",
    "print(accuracy)"
   ]
  },
  {
   "cell_type": "code",
   "execution_count": 88,
   "metadata": {},
   "outputs": [
    {
     "data": {
      "image/png": "[encoded data removed]",
      "text/plain": [
       "<Figure size 288x288 with 2 Axes>"
      ]
     },
     "metadata": {
      "needs_background": "light"
     },
     "output_type": "display_data"
    }
   ],
   "source": [
    "# 衡量模型性能\n",
    "\n",
    "#true↓ predict→\n",
    "import sklearn.metrics as sm\n",
    "from sklearn.metrics import confusion_matrix\n",
    "import matplotlib.pyplot as plt\n",
    "cm = confusion_matrix(y_pred, y_true)\n",
    "#print(cm)\n",
    "plt.matshow(cm,cmap=plt.cm.Greens)\n",
    "plt.colorbar()\n",
    "for x in range(len(cm)):\n",
    "    for y in range(len(cm)):\n",
    "        plt.annotate(cm[x,y],xy=(x,y),horizontalalignment='center',verticalalignment='center')"
   ]
  },
  {
   "cell_type": "code",
   "execution_count": 89,
   "metadata": {},
   "outputs": [
    {
     "name": "stdout",
     "output_type": "stream",
     "text": [
      "分类报告为：\n",
      "              precision    recall  f1-score   support\n",
      "\n",
      "         0.0       1.00      1.00      1.00        10\n",
      "         1.0       0.89      1.00      0.94         8\n",
      "         2.0       1.00      0.92      0.96        12\n",
      "\n",
      "   micro avg       0.97      0.97      0.97        30\n",
      "   macro avg       0.96      0.97      0.97        30\n",
      "weighted avg       0.97      0.97      0.97        30\n",
      "\n"
     ]
    }
   ],
   "source": [
    "# 分类报告\n",
    "r = sm.classification_report(y_true, y_pred)\n",
    "print('分类报告为：', r, sep='\\n')"
   ]
  },
  {
   "cell_type": "code",
   "execution_count": 71,
   "metadata": {},
   "outputs": [
    {
     "name": "stdout",
     "output_type": "stream",
     "text": [
      "0.9533333333333335\n",
      "0.9533333333333334\n",
      "0.9666666666666666\n",
      "0.9733333333333334\n",
      "0.9800000000000001\n",
      "0.9666666666666668\n",
      "0.9600000000000002\n",
      "0.9466666666666667\n",
      "评估最合适的K值为：7 其准确率为：0.98\n"
     ]
    },
    {
     "data": {
      "image/png": "[encoded data removed]",
      "text/plain": [
       "<Figure size 432x288 with 1 Axes>"
      ]
     },
     "metadata": {
      "needs_background": "light"
     },
     "output_type": "display_data"
    }
   ],
   "source": [
    "from sklearn.model_selection import KFold\n",
    "from sklearn.neighbors import KNeighborsClassifier\n",
    "import matplotlib.pyplot as plt\n",
    "iris = datasets.load_iris()\n",
    "# X 为特征集，y 为标签集\n",
    "X= train\n",
    "y=train_label\n",
    "fs =[3,4,5,6,7,8,9,10]\n",
    "# 进行4折交叉验证，返回的是训练集和验证集的下标\n",
    "fk = KFold(n_splits=4, shuffle=True)\n",
    "\n",
    "# 先默认当前最好的k值\n",
    "best_k = fs[0]\n",
    "# 先默认最好的准确率值\n",
    "best_score = 0\n",
    "\n",
    "ACC = []\n",
    "K = []\n",
    "\n",
    "# 遍历所有的候选值\n",
    "for k in fs:\n",
    "\n",
    "    curr_score = 0\n",
    "    # 遍历5段的数据集\n",
    "    for train_index,valid_index in fk.split(X):\n",
    "        # 实例化KNN模型\n",
    "        clf = KNeighborsClassifier(n_neighbors=k)\n",
    "        # 训练模型\n",
    "        clf.fit(X[train_index], y[train_index])\n",
    "        # 计算当前的准确率\n",
    "        curr_score = curr_score + clf.score(X[valid_index], y[valid_index])\n",
    "    # 计算KNN模型的K值为k时的平均准确率值\n",
    "    avg_score = curr_score/4\n",
    "    K.append(k)\n",
    "    ACC.append(avg_score)\n",
    "    print(avg_score)\n",
    "    # 判断平均准确率值是否大于目前最好的准确率值\n",
    "    if avg_score > best_score:\n",
    "        # 将平均准确率值替代原先最好的准确率值\n",
    "        best_score = avg_score\n",
    "        # 将目前的K值替换原先最好的K值\n",
    "        best_k = k\n",
    "\n",
    "print('评估最合适的K值为：%d'%best_k,\"其准确率为：%.2f\"%best_score)\n",
    "\n",
    "\n",
    "plt.xlabel('K')\n",
    "plt.ylabel('ACC')\n",
    "plt.plot(K,ACC,'o-')\n",
    "plt.show()\n"
   ]
  },
  {
   "cell_type": "code",
   "execution_count": null,
   "metadata": {},
   "outputs": [],
   "source": []
  },
  {
   "cell_type": "code",
   "execution_count": null,
   "metadata": {},
   "outputs": [],
   "source": []
  }
 ],
 "metadata": {
  "kernelspec": {
   "display_name": "Python 3",
   "language": "python",
   "name": "python3"
  },
  "language_info": {
   "codemirror_mode": {
    "name": "ipython",
    "version": 3
   },
   "file_extension": ".py",
   "mimetype": "text/x-python",
   "name": "python",
   "nbconvert_exporter": "python",
   "pygments_lexer": "ipython3",
   "version": "3.7.3"
  }
 },
 "nbformat": 4,
 "nbformat_minor": 2
}
