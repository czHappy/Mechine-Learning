{
 "cells": [
  {
   "cell_type": "code",
   "execution_count": 30,
   "metadata": {},
   "outputs": [],
   "source": [
    "import torch.nn as nn\n",
    "import torch\n",
    "import torch.utils.data as Data\n",
    "from  sklearn.datasets import load_iris\n",
    "import pandas as pd\n",
    "import numpy as np\n",
    "def getdata():\n",
    "    train_data=load_iris()\n",
    "    data=train_data['data']\n",
    "    labels=train_data['target'].reshape(-1,1)\n",
    "    total_data=np.hstack((data,labels))\n",
    "    np.random.shuffle(total_data)\n",
    "    train=total_data[0:120,:-1]\n",
    "    test=total_data[120:,:-1]\n",
    "    train_label=total_data[0:120,-1].reshape(-1,1)\n",
    "    test_label=total_data[120:,-1].reshape(-1,1)\n",
    "    return data,labels,train,test,train_label,test_label\n",
    "data,labels,train,test,train_label,test_label = getdata()\n",
    "# 数据预处理 归一化\n",
    "from sklearn.preprocessing import StandardScaler\n",
    "scaler = StandardScaler()\n",
    "scaler.fit(train)\n",
    "train=scaler.transform(train)\n",
    "# 4.对测试数据进行归一化处理\n",
    "test=scaler.transform(test)"
   ]
  },
  {
   "cell_type": "code",
   "execution_count": 31,
   "metadata": {},
   "outputs": [
    {
     "name": "stdout",
     "output_type": "stream",
     "text": [
      "[1. 0. 2. 2. 1. 1. 0. 1. 2. 2. 0. 1. 0. 1. 2. 2. 0. 2. 1. 2. 0. 0. 0. 1.\n",
      " 0. 1. 2. 1. 0. 2.]\n",
      "[1 0 2 2 2 2 0 1 1 1 0 1 0 1 1 2 0 2 2 2 0 0 0 1 0 1 2 1 0 2]\n",
      "0.8\n"
     ]
    }
   ],
   "source": [
    "from sklearn.cluster import KMeans\n",
    "kmeans = KMeans(n_clusters=3)\n",
    "kmeans.fit(train)\n",
    "y_pred = kmeans.predict(test)\n",
    "y_true = test_label.reshape(1,-1)[0]\n",
    "print(y_true)\n",
    "print(y_pred)\n",
    "accuracy = float((y_pred == y_true).astype(int).sum()) / (len(y_true))\n",
    "print(accuracy)"
   ]
  },
  {
   "cell_type": "code",
   "execution_count": 32,
   "metadata": {},
   "outputs": [
    {
     "data": {
      "image/png": "[encoded data removed]",
      "text/plain": [
       "<Figure size 288x288 with 2 Axes>"
      ]
     },
     "metadata": {
      "needs_background": "light"
     },
     "output_type": "display_data"
    }
   ],
   "source": [
    "# 衡量模型性能\n",
    "\n",
    "#true↓ predict→\n",
    "import sklearn.metrics as sm\n",
    "from sklearn.metrics import confusion_matrix\n",
    "import matplotlib.pyplot as plt\n",
    "cm = confusion_matrix(y_pred, y_true)\n",
    "#print(cm)\n",
    "plt.matshow(cm,cmap=plt.cm.Greens)\n",
    "plt.colorbar()\n",
    "for x in range(len(cm)):\n",
    "    for y in range(len(cm)):\n",
    "        plt.annotate(cm[x,y],xy=(x,y),horizontalalignment='center',verticalalignment='center')"
   ]
  },
  {
   "cell_type": "code",
   "execution_count": 33,
   "metadata": {},
   "outputs": [
    {
     "name": "stdout",
     "output_type": "stream",
     "text": [
      "分类报告为：\n",
      "              precision    recall  f1-score   support\n",
      "\n",
      "         0.0       1.00      1.00      1.00        10\n",
      "         1.0       0.70      0.70      0.70        10\n",
      "         2.0       0.70      0.70      0.70        10\n",
      "\n",
      "   micro avg       0.80      0.80      0.80        30\n",
      "   macro avg       0.80      0.80      0.80        30\n",
      "weighted avg       0.80      0.80      0.80        30\n",
      "\n"
     ]
    }
   ],
   "source": [
    "# 分类报告\n",
    "r = sm.classification_report(y_true, y_pred)\n",
    "print('分类报告为：', r, sep='\\n')"
   ]
  },
  {
   "cell_type": "code",
   "execution_count": 3,
   "metadata": {},
   "outputs": [
    {
     "data": {
      "image/png": "[encoded data removed]",
      "text/plain": [
       "<Figure size 432x288 with 1 Axes>"
      ]
     },
     "metadata": {
      "needs_background": "light"
     },
     "output_type": "display_data"
    }
   ],
   "source": [
    "import pandas as pd\n",
    "from sklearn.cluster import KMeans\n",
    "import matplotlib.pyplot as plt\n",
    " \n",
    "SSE = []  # 存放每次结果的误差平方和\n",
    "for k in range(1,9):\n",
    "    estimator = KMeans(n_clusters=k)  # 构造聚类器\n",
    "    estimator.fit(train)\n",
    "    SSE.append(estimator.inertia_) # estimator.inertia_获取聚类准则的总和\n",
    "X = range(1,9)\n",
    "plt.xlabel('k')\n",
    "plt.ylabel('SSE')\n",
    "plt.plot(X,SSE,'o-')\n",
    "plt.show()"
   ]
  },
  {
   "cell_type": "code",
   "execution_count": 17,
   "metadata": {},
   "outputs": [
    {
     "name": "stdout",
     "output_type": "stream",
     "text": [
      "[1 1 0 0 1 0 0 1 1 1 0 1 1 1 1 0 1 1 1 0 1 1 1 0 0 1 1 0 1 0 1 1 1 1 0 1 0\n",
      " 1 0 1 1 1 1 1 1 1 1 1 1 1 1 0 1 1 1 0 1 1 0 0 1 1 1 1 1 1 1 0 1 0 0 0 1 1\n",
      " 1 0 1 1 1 1 1 1 0 1 1 0 1 0 0 0 0 1 1 1 0 1 1 0 0 1]\n",
      "[2 1 0 0 1 0 0 2 2 1 0 2 1 1 1 0 2 2 2 0 1 2 1 0 0 1 2 0 1 0 2 2 1 2 0 2 0\n",
      " 1 0 2 1 1 1 1 1 1 1 2 1 1 1 0 2 2 2 0 1 1 0 0 1 2 2 2 1 2 2 0 2 0 0 0 1 1\n",
      " 1 0 2 1 2 1 1 2 0 1 1 0 2 0 0 0 0 2 1 2 0 2 1 0 0 1]\n",
      "[2 0 3 1 0 3 3 2 2 0 3 2 0 0 0 1 2 2 2 3 0 2 0 3 3 0 2 1 0 1 2 2 0 2 3 2 1\n",
      " 0 3 2 0 0 0 0 0 0 0 2 0 0 0 1 2 2 2 1 0 0 3 1 0 2 2 2 0 2 2 3 2 3 1 3 0 0\n",
      " 0 3 2 0 2 0 0 2 3 0 0 1 2 3 1 3 3 2 0 2 3 2 0 1 1 0]\n",
      "[1 4 2 0 4 2 2 3 3 4 2 3 1 4 4 0 3 1 1 2 1 3 1 2 2 4 3 0 1 0 1 3 4 3 2 1 0\n",
      " 4 2 1 1 4 1 1 1 1 4 3 4 1 1 0 3 3 1 0 1 4 2 0 1 1 3 3 4 3 3 2 1 2 0 2 1 4\n",
      " 1 2 3 1 3 1 1 3 2 1 1 0 3 2 0 2 2 3 1 3 2 1 4 0 0 1]\n",
      "[2 1 3 0 1 3 3 2 2 1 3 2 4 1 1 0 2 2 2 3 4 5 4 3 3 1 2 0 4 0 4 2 1 2 3 4 0\n",
      " 1 3 2 4 1 4 4 4 4 1 2 1 4 4 0 2 2 4 0 4 1 3 0 4 4 5 2 1 2 2 3 2 3 0 3 4 1\n",
      " 4 3 5 4 2 4 4 2 3 4 4 0 2 3 0 3 3 2 4 2 3 2 1 3 0 4]\n",
      "[5 6 1 2 0 1 1 5 5 0 1 5 6 0 0 2 5 6 5 1 6 4 3 1 1 0 5 2 6 2 3 5 0 5 1 3 2\n",
      " 0 1 5 6 0 3 3 6 6 0 5 0 6 6 2 5 5 6 2 6 0 1 2 6 3 4 5 0 5 5 1 5 1 2 1 3 0\n",
      " 6 1 4 3 5 3 6 5 1 3 3 2 5 1 2 1 1 5 3 5 1 6 6 1 2 3]\n",
      "[6 5 3 0 4 3 3 2 2 5 3 2 6 5 5 0 2 6 6 3 6 7 1 3 3 4 2 0 6 0 1 2 5 2 3 1 0\n",
      " 4 3 6 5 4 1 1 5 5 4 2 4 5 5 0 2 2 6 0 5 4 3 0 6 1 7 6 5 2 6 3 6 3 0 3 1 4\n",
      " 5 3 7 1 2 1 5 2 3 1 1 0 2 3 0 3 3 2 1 6 3 6 5 3 0 1]\n"
     ]
    },
    {
     "data": {
      "image/png": "[encoded data removed]",
      "text/plain": [
       "<Figure size 432x288 with 1 Axes>"
      ]
     },
     "metadata": {
      "needs_background": "light"
     },
     "output_type": "display_data"
    }
   ],
   "source": [
    "from sklearn import metrics\n",
    "silhouette_all = []\n",
    "for k in range(2,9):\n",
    "    estimator = KMeans(n_clusters=k)  # 构造聚类器\n",
    "    estimator.fit(train)\n",
    "    y_pred = estimator.labels_\n",
    "    print(y_pred)\n",
    "    a = metrics.silhouette_score(train, y_pred, metric='euclidean')\n",
    "    silhouette_all.append(a) # estimator.inertia_获取聚类准则的总和\n",
    "X = range(2,9)\n",
    "plt.xlabel('k')\n",
    "plt.ylabel('silhouette')\n",
    "plt.plot(X,silhouette_all,'o-')\n",
    "plt.show()"
   ]
  },
  {
   "cell_type": "code",
   "execution_count": null,
   "metadata": {},
   "outputs": [],
   "source": []
  }
 ],
 "metadata": {
  "kernelspec": {
   "display_name": "Python 3",
   "language": "python",
   "name": "python3"
  },
  "language_info": {
   "codemirror_mode": {
    "name": "ipython",
    "version": 3
   },
   "file_extension": ".py",
   "mimetype": "text/x-python",
   "name": "python",
   "nbconvert_exporter": "python",
   "pygments_lexer": "ipython3",
   "version": "3.7.3"
  }
 },
 "nbformat": 4,
 "nbformat_minor": 2
}
